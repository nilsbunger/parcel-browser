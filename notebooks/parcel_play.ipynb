{
 "cells": [
  {
   "cell_type": "code",
   "execution_count": 1,
   "outputs": [
    {
     "name": "stderr",
     "output_type": "stream",
     "text": [
      "**** RUNNING IN (insecure) DEVELOPMENT MODE ****\n",
      "****** LOCAL DATABASE ******\n"
     ]
    },
    {
     "name": "stdout",
     "output_type": "stream",
     "text": [
      "INITIALIZATION DONE\n"
     ]
    }
   ],
   "source": [
    "\n",
    "\n"
   ],
   "metadata": {
    "collapsed": false,
    "pycharm": {
     "name": "#%%\n"
    }
   }
  },
  {
   "cell_type": "code",
   "execution_count": 2,
   "outputs": [
    {
     "name": "stdout",
     "output_type": "stream",
     "text": [
      "INITIALIZATION DONE\n"
     ]
    },
    {
     "name": "stderr",
     "output_type": "stream",
     "text": [
      "/Users/nils/Code2022/h3-gis/notebooks/notebook_util.py:15: ShapelyDeprecationWarning: Iteration over multi-part geometries is deprecated and will be removed in Shapely 2.0. Use the `geoms` property to access the constituent parts of a multi-part geometry.\n",
      "  for idx,poly in enumerate(polys):\n"
     ]
    },
    {
     "data": {
      "text/plain": "<Figure size 432x288 with 1 Axes>",
      "image/png": "[encoded data removed]"
     },
     "metadata": {
      "needs_background": "light"
     },
     "output_type": "display_data"
    },
    {
     "data": {
      "text/plain": "<Figure size 432x288 with 1 Axes>",
      "image/png": "[encoded data removed]"
     },
     "metadata": {
      "needs_background": "light"
     },
     "output_type": "display_data"
    }
   ],
   "source": [
    "# ALGORITHM: Find biggest rectangles that fit on a parcel.\n",
    "\n",
    "# Django, Geopandas, etc related setup.\n",
    "\n",
    "import os, sys\n",
    "PROJECTPATH = os.environ['PWD']\n",
    "sys.path.insert(0, PROJECTPATH)\n",
    "os.environ.setdefault(\"DJANGO_SETTINGS_MODULE\", \"mygeo.settings\")\n",
    "os.environ.setdefault(\"DJANGO_PROJECT\", \"mygeo\")\n",
    "os.environ.setdefault(\"LOCAL_DB\", \"1\")\n",
    "os.environ[\"DJANGO_ALLOW_ASYNC_UNSAFE\"] = \"true\"\n",
    "os.chdir(PROJECTPATH)\n",
    "import django\n",
    "django.setup()\n",
    "\n",
    "print(\"INITIALIZATION DONE\")\n",
    "\n",
    "from notebooks.notebook_util import nb_exit, display_polys_on_lot\n",
    "from lib.parcel_lib import *\n",
    "from shapely.geometry import MultiPolygon\n",
    "\n",
    "# apn = '4302030800'  # working, original concave parcel\n",
    "apn = '3090652100'  # interesting convex parcel\n",
    "# apn = '4255451500'  # parcel with lots of room, identified by Richard I think?\n",
    "\n",
    "# Get parcel and building info for this apn.\n",
    "parcel = get_parcel(apn)\n",
    "buildings = get_buildings(parcel)\n",
    "\n",
    "# convert building and parcel data into a UTM projection, which is a flat\n",
    "# geometry where each unit is 1 meter.\n",
    "parcel_in_utm = parcel_to_utm_gdf(parcel)\n",
    "buildings_in_utm = buildings_to_utm_gdf(buildings)\n",
    "# lot_square_meters = parcel_in_utm.area\n",
    "# print (\"Lot: \", lot_square_meters)\n",
    "# print (\"buildings: \", buildings_in_utm.area)\n",
    "\n",
    "# do some basic sanity checks\n",
    "assert (len(parcel_in_utm.boundary[0].geoms) == 1)\n",
    "# assert (len(buildings_in_utm.boundary) == 2)\n",
    "assert (len(buildings_in_utm.boundary[0].geoms) == 1)\n",
    "\n",
    "# TODO: Algorithm currently only uses first building. extend it to multiple buildings\n",
    "# building_lines = MultiLineString(buildings_in_utm.geometry)\n",
    "assert (len(parcel_in_utm.boundary) == 1)\n",
    "\n",
    "# Why does building have to be a line_string but parcel isn't?\n",
    "# Why do we have to treat buildings as a line string and not as a polygon that can be filled in?\n",
    "# Is this something to do with the building's data structure (not having information on the fill, only vertices)?\n",
    "parcel_boundary_multipoly, buildings = normalize_geometries(parcel_in_utm, buildings_in_utm)\n",
    "\n",
    "# Calculate the available geometries\n",
    "avail_geom = get_avail_geoms(parcel_boundary_multipoly, buildings)\n",
    "\n",
    "# A lot data frame contains the building(s) and the parcel (the plot of land)\n",
    "lot_df = geopandas.GeoDataFrame(geometry=[*buildings, parcel_boundary_multipoly.boundary], crs=\"EPSG:4326\")\n",
    "# Display a graphic showing the building(s), and the available geometries we've calculated\n",
    "avail_geom = MultiPolygon([avail_geom])\n",
    "\n",
    "display_polys_on_lot(lot_df, avail_geom)\n",
    "# Now find the largest rectangles we can fit on the available geometries\n",
    "placed_polys = find_largest_rectangles_on_avail_geom(avail_geom, num_rects=4, max_aspect_ratio=2.5)\n",
    "\n",
    "display_polys_on_lot(lot_df, placed_polys)\n",
    "# nb_exit()\n"
   ],
   "metadata": {
    "collapsed": false,
    "pycharm": {
     "name": "#%%\n"
    }
   }
  },
  {
   "cell_type": "code",
   "execution_count": null,
   "outputs": [],
   "source": [],
   "metadata": {
    "collapsed": false,
    "pycharm": {
     "name": "#%%\n"
    }
   }
  },
  {
   "cell_type": "code",
   "execution_count": 3,
   "id": "26594c74-2a55-437a-9060-3999236e0923",
   "metadata": {
    "collapsed": true,
    "jupyter": {
     "outputs_hidden": true,
     "source_hidden": true
    },
    "tags": [],
    "pycharm": {
     "name": "#%%\n"
    }
   },
   "outputs": [],
   "source": [
    "## NOT WORKING: Find rectangles: Implementation attempt from old Dr Dobbs journal.\n",
    "# Ref: https://stackoverflow.com/questions/7245/puzzle-find-largest-rectangle-maximal-rectangle-problem\n",
    "# and https://www.drdobbs.com/database/the-maximal-rectangle-problem/184410529\n",
    "\n",
    "def not_working():\n",
    "    from rasterio import features\n",
    "    raster_dims = [30,33]\n",
    "    b = features.rasterize(kept_triangles, raster_dims)\n",
    "    cache = [0] * (raster_dims[0]+1)\n",
    "    stack = []\n",
    "    best_rect = ((0,0),(-1,-1))\n",
    "    best_area = 0\n",
    "    def update_cache(x):\n",
    "        for y in range (0, 30):\n",
    "            if (b[y][x]==1): # inside polygon\n",
    "                cache[y] = cache[y]+1\n",
    "                #print (f'Cache @ y={y} : {cache[y]}')\n",
    "            elif (b[y][x]==0):\n",
    "                cache[y] = 0\n",
    "            else:\n",
    "                print (\"Unkknown b value: \", b[y][x])\n",
    "\n",
    "    for x in range(32,-1,-1):\n",
    "        update_cache(x)\n",
    "        open_width=0  # width of widest open rect\n",
    "        for y in range(31):\n",
    "            # print (\"X,Y is \", x, y)\n",
    "            if (cache[y] > open_width): # opening new rectangle(s)\n",
    "                stack.append((y, open_width))\n",
    "                print (f'{x},{y} OPEN. Push (y, open_width) =({y}, {open_width})')\n",
    "                open_width = cache[y]\n",
    "            elif (cache[y] < open_width):\n",
    "                while (cache[y] < open_width): # closing rectnagles\n",
    "                    (y0, w0)= stack.pop()\n",
    "                    print (f'{x},{y} CLOSING popped y0,w0 = ({y0}, {w0})')\n",
    "                    area = open_width*(y-y0)\n",
    "                    if (area > best_area):\n",
    "                        best_area = area\n",
    "                        best_rect = ((x, y0), ((x-open_width+1), y-1))\n",
    "                        print (\"  BETTER Rect:\", best_rect, \" . Area=\", best_area)\n",
    "                    open_width = w0\n",
    "                open_width = cache[y]\n",
    "                if (open_width != 0): # popped an active opening\n",
    "                    stack.append ((y0, open_width))\n",
    "\n",
    "    print (best_rect)\n",
    "    print (cache)\n"
   ]
  },
  {
   "cell_type": "code",
   "execution_count": null,
   "id": "a1672485-0f14-47cd-a8ad-8fd026e936da",
   "metadata": {
    "pycharm": {
     "name": "#%%\n"
    }
   },
   "outputs": [],
   "source": [
    "# MIRA MESA NEIGHBORHOOD:\n",
    "(-117.17987773162996, 32.930825570911985), (-117.12513392170659, 32.894946222075184)"
   ]
  },
  {
   "cell_type": "code",
   "execution_count": null,
   "id": "516903e3-e691-4bb4-8b5f-22885b402753",
   "metadata": {
    "pycharm": {
     "name": "#%%\n"
    }
   },
   "outputs": [],
   "source": []
  },
  {
   "cell_type": "code",
   "execution_count": null,
   "id": "ecf98001-083c-43e9-bd3e-1e55ba537bb4",
   "metadata": {
    "pycharm": {
     "name": "#%%\n"
    }
   },
   "outputs": [],
   "source": []
  },
  {
   "cell_type": "code",
   "execution_count": null,
   "id": "493b4926-63bd-4c43-bd28-e9b0549f05ce",
   "metadata": {
    "pycharm": {
     "name": "#%%\n"
    }
   },
   "outputs": [],
   "source": []
  }
 ],
 "metadata": {
  "kernelspec": {
   "display_name": "Python 3 (ipykernel)",
   "language": "python",
   "name": "python3"
  },
  "language_info": {
   "codemirror_mode": {
    "name": "ipython",
    "version": 3
   },
   "file_extension": ".py",
   "mimetype": "text/x-python",
   "name": "python",
   "nbconvert_exporter": "python",
   "pygments_lexer": "ipython3",
   "version": "3.9.13"
  }
 },
 "nbformat": 4,
 "nbformat_minor": 5
}
